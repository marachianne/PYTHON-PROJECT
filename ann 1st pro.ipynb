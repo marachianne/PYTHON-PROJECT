{
 "cells": [
  {
   "cell_type": "markdown",
   "id": "85068ac6-6e1b-42a6-a3c1-283aa72ec98b",
   "metadata": {},
   "source": [
    "# LEARN PYTHON IN JUPITER"
   ]
  },
  {
   "cell_type": "code",
   "execution_count": null,
   "id": "501017ee-4ab5-4237-8509-e054c771a88b",
   "metadata": {},
   "outputs": [],
   "source": []
  },
  {
   "cell_type": "markdown",
   "id": "c50d2c55-69ce-49a4-9fa8-52f8bae3c6e5",
   "metadata": {},
   "source": [
    "#DICTIONARIES"
   ]
  },
  {
   "cell_type": "code",
   "execution_count": 4,
   "id": "7beaa5c8-32de-4dea-9383-61511c457e89",
   "metadata": {},
   "outputs": [
    {
     "name": "stdout",
     "output_type": "stream",
     "text": [
      "{'name': 'Anne', 'weekly intake': 5, 'ice cream': ['MCC', ' CHOCOLATE']}\n"
     ]
    }
   ],
   "source": [
    "dict_cream = {'name' : 'Anne', 'weekly intake' : 5, 'ice cream' : ['MCC' ,' CHOCOLATE' ]}\n",
    "print(dict_cream)"
   ]
  },
  {
   "cell_type": "code",
   "execution_count": 5,
   "id": "c1217adf-f22a-4cf7-8455-e955aaf5eec2",
   "metadata": {},
   "outputs": [
    {
     "data": {
      "text/plain": [
       "dict"
      ]
     },
     "execution_count": 5,
     "metadata": {},
     "output_type": "execute_result"
    }
   ],
   "source": [
    "type(dict_cream)"
   ]
  },
  {
   "cell_type": "code",
   "execution_count": 6,
   "id": "d7850b3a-2f24-4733-816d-9a5022edada0",
   "metadata": {},
   "outputs": [
    {
     "data": {
      "text/plain": [
       "dict_keys(['name', 'weekly intake', 'ice cream'])"
      ]
     },
     "execution_count": 6,
     "metadata": {},
     "output_type": "execute_result"
    }
   ],
   "source": [
    "dict_cream.keys()"
   ]
  },
  {
   "cell_type": "code",
   "execution_count": 7,
   "id": "b59b8449-e266-44e8-9ad2-3dd44a5581b4",
   "metadata": {},
   "outputs": [
    {
     "data": {
      "text/plain": [
       "dict_items([('name', 'Anne'), ('weekly intake', 5), ('ice cream', ['MCC', ' CHOCOLATE'])])"
      ]
     },
     "execution_count": 7,
     "metadata": {},
     "output_type": "execute_result"
    }
   ],
   "source": [
    "dict_cream.items()"
   ]
  },
  {
   "cell_type": "code",
   "execution_count": 8,
   "id": "1a025437-89fb-4d61-b0d3-67c841520349",
   "metadata": {
    "scrolled": true
   },
   "outputs": [
    {
     "data": {
      "text/plain": [
       "dict_values(['Anne', 5, ['MCC', ' CHOCOLATE']])"
      ]
     },
     "execution_count": 8,
     "metadata": {},
     "output_type": "execute_result"
    }
   ],
   "source": [
    "dict_cream.values()"
   ]
  },
  {
   "cell_type": "code",
   "execution_count": 25,
   "id": "efee884f-d5ab-436a-b523-bad6a7467fd2",
   "metadata": {},
   "outputs": [
    {
     "data": {
      "text/plain": [
       "'Anne'"
      ]
     },
     "execution_count": 25,
     "metadata": {},
     "output_type": "execute_result"
    }
   ],
   "source": [
    "dict_cream ['name']"
   ]
  },
  {
   "cell_type": "code",
   "execution_count": 26,
   "id": "96650184-392c-44ac-a7fe-112cf6bdf4db",
   "metadata": {},
   "outputs": [],
   "source": [
    "dict_cream ['name'] = 'christine'"
   ]
  },
  {
   "cell_type": "code",
   "execution_count": 27,
   "id": "7e0ddc96-e721-4043-ae66-0a66e00ba1ae",
   "metadata": {},
   "outputs": [
    {
     "name": "stdout",
     "output_type": "stream",
     "text": [
      "{'name': 'christine', 'weekly intake': 5, 'ice cream': ['MCC', ' CHOCOLATE']}\n"
     ]
    }
   ],
   "source": [
    "print(dict_cream)"
   ]
  },
  {
   "cell_type": "code",
   "execution_count": 35,
   "id": "a2b806c1-6ec4-4ceb-9692-55798ce51146",
   "metadata": {},
   "outputs": [
    {
     "name": "stdout",
     "output_type": "stream",
     "text": [
      "{'name': 'christine', 'weekly intake': 10, 'ice cream': ['MCC', ' CHOCOLATE'], 'weight': 300}\n"
     ]
    }
   ],
   "source": [
    "dict_cream.update ({'name': 'christine', 'weekly intake': 10, 'weight': 300})\n",
    "print(dict_cream)"
   ]
  },
  {
   "cell_type": "code",
   "execution_count": 46,
   "id": "30655dca-9250-4636-86f2-91c8624da356",
   "metadata": {},
   "outputs": [
    {
     "ename": "KeyError",
     "evalue": "'weight'",
     "output_type": "error",
     "traceback": [
      "\u001b[1;31m---------------------------------------------------------------------------\u001b[0m",
      "\u001b[1;31mKeyError\u001b[0m                                  Traceback (most recent call last)",
      "Cell \u001b[1;32mIn[46], line 1\u001b[0m\n\u001b[1;32m----> 1\u001b[0m \u001b[38;5;28;01mdel\u001b[39;00m dict_cream[\u001b[38;5;124m'\u001b[39m\u001b[38;5;124mweight\u001b[39m\u001b[38;5;124m'\u001b[39m]\n\u001b[0;32m      2\u001b[0m \u001b[38;5;28mprint\u001b[39m(dict_cream)\n",
      "\u001b[1;31mKeyError\u001b[0m: 'weight'"
     ]
    }
   ],
   "source": [
    "del dict_cream['weight']\n",
    "print(dict_cream)"
   ]
  },
  {
   "cell_type": "code",
   "execution_count": 47,
   "id": "2763dba6-383e-4ece-8f6e-849cb0b3c9a8",
   "metadata": {},
   "outputs": [
    {
     "name": "stdout",
     "output_type": "stream",
     "text": [
      "{'name': 'christine', 'weekly intake': 10, 'ice cream': ['MCC', ' CHOCOLATE']}\n"
     ]
    }
   ],
   "source": [
    "print(dict_cream)"
   ]
  },
  {
   "cell_type": "code",
   "execution_count": null,
   "id": "5c5be6c0-961f-451b-bb23-60281bf25b4d",
   "metadata": {},
   "outputs": [],
   "source": []
  },
  {
   "cell_type": "markdown",
   "id": "3eb40a16-427a-4b6c-bf24-b3e8b1621db8",
   "metadata": {},
   "source": [
    "#list"
   ]
  },
  {
   "cell_type": "code",
   "execution_count": 9,
   "id": "e4d7da5b-088a-45a8-ab32-e993d3792bf6",
   "metadata": {},
   "outputs": [
    {
     "name": "stdout",
     "output_type": "stream",
     "text": [
      "['strawberry', 'chocolate', 'vanilla']\n"
     ]
    }
   ],
   "source": [
    "ice_cream = ['strawberry','chocolate', 'vanilla']\n",
    "print (ice_cream)"
   ]
  },
  {
   "cell_type": "code",
   "execution_count": 10,
   "id": "c75bad54-1040-4aac-9576-bec23bbc3740",
   "metadata": {},
   "outputs": [],
   "source": [
    "ice_cream.append('caramel')"
   ]
  },
  {
   "cell_type": "code",
   "execution_count": 11,
   "id": "35385036-1dbe-44cd-8968-a6e0e3a0b378",
   "metadata": {},
   "outputs": [
    {
     "name": "stdout",
     "output_type": "stream",
     "text": [
      "['strawberry', 'chocolate', 'vanilla', 'caramel']\n"
     ]
    }
   ],
   "source": [
    "print (ice_cream)"
   ]
  },
  {
   "cell_type": "code",
   "execution_count": 12,
   "id": "62dae19b-d1ac-41ea-ac40-331ee6ab0e5f",
   "metadata": {},
   "outputs": [
    {
     "data": {
      "text/plain": [
       "list"
      ]
     },
     "execution_count": 12,
     "metadata": {},
     "output_type": "execute_result"
    }
   ],
   "source": [
    "type(ice_cream)"
   ]
  },
  {
   "cell_type": "code",
   "execution_count": 13,
   "id": "236fce88-f988-4450-a6b4-8a21b3679b50",
   "metadata": {},
   "outputs": [
    {
     "name": "stdout",
     "output_type": "stream",
     "text": [
      "['blueberry', 'chocolate', 'vanilla', 'caramel']\n"
     ]
    }
   ],
   "source": [
    "ice_cream[0] = 'blueberry'\n",
    "print (ice_cream)"
   ]
  },
  {
   "cell_type": "code",
   "execution_count": null,
   "id": "a5fea5c2-e828-488f-af13-18cf7aca541f",
   "metadata": {},
   "outputs": [],
   "source": []
  },
  {
   "cell_type": "markdown",
   "id": "05e9df7f-a8e2-41b2-8b9d-02700a06a7a7",
   "metadata": {},
   "source": [
    "#tuples"
   ]
  },
  {
   "cell_type": "code",
   "execution_count": 17,
   "id": "bd5318ae-8b2f-45e3-8d85-1109045e7969",
   "metadata": {},
   "outputs": [
    {
     "name": "stdout",
     "output_type": "stream",
     "text": [
      "(1, 2, 3, 2, 1)\n"
     ]
    }
   ],
   "source": [
    "tuple_scoops = (1,2,3,2,1)\n",
    "print (tuple_scoops)\n"
   ]
  },
  {
   "cell_type": "code",
   "execution_count": 18,
   "id": "18ebdc0f-d22c-44ff-84d9-17fe17103ca2",
   "metadata": {},
   "outputs": [
    {
     "data": {
      "text/plain": [
       "tuple"
      ]
     },
     "execution_count": 18,
     "metadata": {},
     "output_type": "execute_result"
    }
   ],
   "source": [
    "type (tuple_scoops)"
   ]
  },
  {
   "cell_type": "code",
   "execution_count": null,
   "id": "4ba86211-f9e7-4fed-8d9b-76463b75cfaf",
   "metadata": {},
   "outputs": [],
   "source": []
  },
  {
   "cell_type": "markdown",
   "id": "7f427776-4634-4e73-84e7-a6a63126636e",
   "metadata": {},
   "source": [
    "#set"
   ]
  },
  {
   "cell_type": "code",
   "execution_count": 22,
   "id": "40f859bc-b58d-417f-92f0-7cd1d3684a37",
   "metadata": {},
   "outputs": [
    {
     "name": "stdout",
     "output_type": "stream",
     "text": [
      "{0, 1, 2, 3, 4, 5, 7}\n"
     ]
    }
   ],
   "source": [
    "daily_prints = {1,2,3,5,7,2}\n",
    "wife_daily = {1,4,3,2,7,1,2,0}\n",
    "print (daily_prints | wife_daily)"
   ]
  },
  {
   "cell_type": "code",
   "execution_count": 23,
   "id": "a09635f3-9735-4876-b12f-f3b8e6368831",
   "metadata": {},
   "outputs": [
    {
     "name": "stdout",
     "output_type": "stream",
     "text": [
      "{1, 2, 3, 7}\n"
     ]
    }
   ],
   "source": [
    "print (daily_prints & wife_daily)"
   ]
  },
  {
   "cell_type": "code",
   "execution_count": 24,
   "id": "a391b03b-693b-4417-be84-9803720721f8",
   "metadata": {},
   "outputs": [
    {
     "name": "stdout",
     "output_type": "stream",
     "text": [
      "{5}\n"
     ]
    }
   ],
   "source": [
    "print (daily_prints - wife_daily)"
   ]
  },
  {
   "cell_type": "code",
   "execution_count": null,
   "id": "a2723b21-03e4-40dc-ba45-4e3c4bf94937",
   "metadata": {},
   "outputs": [],
   "source": []
  },
  {
   "cell_type": "code",
   "execution_count": 48,
   "id": "4c9f7415-6f2c-4816-a6b3-8b8635f8a995",
   "metadata": {},
   "outputs": [
    {
     "name": "stdout",
     "output_type": "stream",
     "text": [
      "1\n",
      "2\n",
      "3\n",
      "4\n",
      "5\n"
     ]
    }
   ],
   "source": [
    "integer = [1,2,3,4,5]\n",
    "for number in integer :\n",
    "    print (number)"
   ]
  },
  {
   "cell_type": "code",
   "execution_count": null,
   "id": "dc8736e0-194a-4b56-9478-129fa5877f61",
   "metadata": {},
   "outputs": [],
   "source": []
  },
  {
   "cell_type": "code",
   "execution_count": null,
   "id": "36cc76d9-3245-4b09-9345-f2e7a2df2c0d",
   "metadata": {},
   "outputs": [],
   "source": []
  }
 ],
 "metadata": {
  "kernelspec": {
   "display_name": "Python 3 (ipykernel)",
   "language": "python",
   "name": "python3"
  },
  "language_info": {
   "codemirror_mode": {
    "name": "ipython",
    "version": 3
   },
   "file_extension": ".py",
   "mimetype": "text/x-python",
   "name": "python",
   "nbconvert_exporter": "python",
   "pygments_lexer": "ipython3",
   "version": "3.12.7"
  }
 },
 "nbformat": 4,
 "nbformat_minor": 5
}
